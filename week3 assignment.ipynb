{
 "cells": [
  {
   "cell_type": "code",
   "execution_count": null,
   "id": "2b14c9e2-8e68-4fb8-b9a0-e2ec733e3209",
   "metadata": {},
   "outputs": [],
   "source": [
    "def"
   ]
  },
  {
   "cell_type": "code",
   "execution_count": 7,
   "id": "eed54044-42ce-49a0-a10c-0f7a6445a775",
   "metadata": {},
   "outputs": [],
   "source": [
    "def test1(a,b):\n",
    "    return a+b"
   ]
  },
  {
   "cell_type": "code",
   "execution_count": 8,
   "id": "50d3f375-d567-4ed5-84ad-ea61792f9c14",
   "metadata": {},
   "outputs": [
    {
     "data": {
      "text/plain": [
       "7"
      ]
     },
     "execution_count": 8,
     "metadata": {},
     "output_type": "execute_result"
    }
   ],
   "source": [
    "test1(3,4)"
   ]
  },
  {
   "cell_type": "code",
   "execution_count": 12,
   "id": "13df03ed-de19-4da1-88f2-3ced5c8cbde2",
   "metadata": {},
   "outputs": [
    {
     "data": {
      "text/plain": [
       "'sadafmunkashif'"
      ]
     },
     "execution_count": 12,
     "metadata": {},
     "output_type": "execute_result"
    }
   ],
   "source": [
    "test1(\"sadaf\" , \"munkashif\")"
   ]
  },
  {
   "cell_type": "code",
   "execution_count": 15,
   "id": "e10b91b3-eb57-4d1d-885a-1085151615c2",
   "metadata": {},
   "outputs": [
    {
     "data": {
      "text/plain": [
       "[1, 2, 3, 4, 5, 6, 6, 8, 9]"
      ]
     },
     "execution_count": 15,
     "metadata": {},
     "output_type": "execute_result"
    }
   ],
   "source": [
    "test1([1,2,3,4,5,6] , [6,8,9])"
   ]
  },
  {
   "cell_type": "code",
   "execution_count": 16,
   "id": "d4a05953-33b2-4f24-a433-b307bf2792b2",
   "metadata": {},
   "outputs": [],
   "source": [
    "def test11(*args):\n",
    "    return args"
   ]
  },
  {
   "cell_type": "code",
   "execution_count": 17,
   "id": "a8fa5fe7-292a-4cdd-9ada-fa7f9ac6fc8b",
   "metadata": {},
   "outputs": [
    {
     "data": {
      "text/plain": [
       "tuple"
      ]
     },
     "execution_count": 17,
     "metadata": {},
     "output_type": "execute_result"
    }
   ],
   "source": [
    "type(test11())"
   ]
  },
  {
   "cell_type": "code",
   "execution_count": 18,
   "id": "ce4b0246-78fc-461b-97a6-eead2946af32",
   "metadata": {},
   "outputs": [],
   "source": [
    "def test12(*sudh):\n",
    "    return sudh"
   ]
  },
  {
   "cell_type": "code",
   "execution_count": 19,
   "id": "205fc5d8-3cf6-4918-b1b5-22307f317347",
   "metadata": {},
   "outputs": [
    {
     "data": {
      "text/plain": [
       "(1, 2, 3, 4)"
      ]
     },
     "execution_count": 19,
     "metadata": {},
     "output_type": "execute_result"
    }
   ],
   "source": [
    "test12(1,2,3,4,)"
   ]
  },
  {
   "cell_type": "code",
   "execution_count": 20,
   "id": "158116a6-9c6d-4865-bb8e-a4706bf73587",
   "metadata": {},
   "outputs": [],
   "source": [
    "def test15(**kwargs):\n",
    "    return kwargs"
   ]
  },
  {
   "cell_type": "code",
   "execution_count": 21,
   "id": "f08894a8-5119-405b-a74c-4e55e10a5e89",
   "metadata": {},
   "outputs": [
    {
     "data": {
      "text/plain": [
       "{}"
      ]
     },
     "execution_count": 21,
     "metadata": {},
     "output_type": "execute_result"
    }
   ],
   "source": [
    "test15()"
   ]
  },
  {
   "cell_type": "code",
   "execution_count": null,
   "id": "21e5a031-939d-4f20-a564-6742b405c514",
   "metadata": {},
   "outputs": [],
   "source": [
    "iterator is like those kind of data wo convert or generate itself to the next next position in python"
   ]
  },
  {
   "cell_type": "code",
   "execution_count": 22,
   "id": "fec19d3e-26c0-46d4-9f7b-f8cb94ab238f",
   "metadata": {},
   "outputs": [],
   "source": [
    "s = \"sudh\""
   ]
  },
  {
   "cell_type": "code",
   "execution_count": 23,
   "id": "05db182d-dada-4a2c-8bae-d849b6329d93",
   "metadata": {},
   "outputs": [
    {
     "name": "stdout",
     "output_type": "stream",
     "text": [
      "s\n",
      "u\n",
      "d\n",
      "h\n"
     ]
    }
   ],
   "source": [
    "for i in s:\n",
    "    print(i)"
   ]
  },
  {
   "cell_type": "code",
   "execution_count": null,
   "id": "8a3159df-6043-42b2-99f0-edcac3c327e6",
   "metadata": {},
   "outputs": [],
   "source": [
    "generator function is something different orspecial type of function in python"
   ]
  },
  {
   "cell_type": "code",
   "execution_count": null,
   "id": "49bdf92a-3696-4588-a331-8d2deca2a216",
   "metadata": {},
   "outputs": [],
   "source": [
    "yield keyword is used basically "
   ]
  },
  {
   "cell_type": "code",
   "execution_count": null,
   "id": "deb0ebf4-0928-4056-ae21-984d3dfcfa01",
   "metadata": {},
   "outputs": [],
   "source": [
    "data = [('Sachin Tendulkar', 34357), ('Ricky Ponting', 27483), ('Jack Kallis', 25534), ('Virat Kohli', 24936)]\n",
    "\n",
    "sorted_data = sorted(data, key=lambda x: x[1])\n",
    "\n",
    "for item in sorted_data:\n",
    "    print(item)"
   ]
  },
  {
   "cell_type": "code",
   "execution_count": null,
   "id": "8cb11aef-ad78-4bd1-b0a0-7849aadabcef",
   "metadata": {},
   "outputs": [],
   "source": [
    "numbers = [1, 2, 3, 4, 5, 6, 7, 8, 9, 10]\n",
    "\n",
    "squared_numbers = list(map(lambda x: x**2, numbers))\n",
    "\n",
    "print(squared_numbers)\n"
   ]
  },
  {
   "cell_type": "code",
   "execution_count": null,
   "id": "5362f3e1-046e-4645-9b5b-3db5375c59bd",
   "metadata": {},
   "outputs": [],
   "source": [
    "numbers = [1, 2, 3, 4, 5, 6, 7, 8, 9, 10]\n",
    "\n",
    "tuple_of_strings = tuple(map(lambda x: str(x), numbers))\n",
    "\n",
    "print(tuple_of_strings)\n"
   ]
  },
  {
   "cell_type": "code",
   "execution_count": null,
   "id": "f32c813a-b62c-49ea-852f-b62a8b1b35df",
   "metadata": {},
   "outputs": [],
   "source": [
    "from functools import reduce\n",
    "\n",
    "numbers = list(range(1, 26))\n",
    "\n",
    "product = reduce(lambda x, y: x * y, numbers)\n",
    "\n",
    "print(product)"
   ]
  },
  {
   "cell_type": "code",
   "execution_count": null,
   "id": "017dbbc1-d3ba-4dbe-8686-85cdac3982d4",
   "metadata": {},
   "outputs": [],
   "source": [
    "numbers = [2, 3, 6, 9, 27, 60, 90, 120, 55, 46]\n",
    "\n",
    "filtered_numbers = list(filter(lambda x: x % 2 == 0 and x % 3 == 0, numbers))\n",
    "\n",
    "print(filtered_numbers)\n"
   ]
  },
  {
   "cell_type": "code",
   "execution_count": null,
   "id": "6b5cec70-bfc4-4b1a-9724-2313d308cb74",
   "metadata": {},
   "outputs": [],
   "source": [
    "strings = ['python', 'php', 'aba', 'radar', 'level']\n",
    "\n",
    "palindromes = list(filter(lambda x: x == x[::-1], strings))\n",
    "\n",
    "print(palindromes)\n"
   ]
  },
  {
   "cell_type": "code",
   "execution_count": null,
   "id": "191b580d-3b10-40bd-8c51-36b2cb4adfc9",
   "metadata": {},
   "outputs": [],
   "source": []
  }
 ],
 "metadata": {
  "kernelspec": {
   "display_name": "Python 3 (ipykernel)",
   "language": "python",
   "name": "python3"
  },
  "language_info": {
   "codemirror_mode": {
    "name": "ipython",
    "version": 3
   },
   "file_extension": ".py",
   "mimetype": "text/x-python",
   "name": "python",
   "nbconvert_exporter": "python",
   "pygments_lexer": "ipython3",
   "version": "3.10.8"
  }
 },
 "nbformat": 4,
 "nbformat_minor": 5
}
